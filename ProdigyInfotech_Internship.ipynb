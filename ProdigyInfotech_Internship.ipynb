{
  "nbformat": 4,
  "nbformat_minor": 0,
  "metadata": {
    "colab": {
      "provenance": [],
      "authorship_tag": "ABX9TyNaoOf7rK88SHQs4hTo8Kth",
      "include_colab_link": true
    },
    "kernelspec": {
      "name": "python3",
      "display_name": "Python 3"
    },
    "language_info": {
      "name": "python"
    }
  },
  "cells": [
    {
      "cell_type": "markdown",
      "metadata": {
        "id": "view-in-github",
        "colab_type": "text"
      },
      "source": [
        "<a href=\"https://colab.research.google.com/github/adityamelavanki/Prodigy_SD_06/blob/main/ProdigyInfotech_Internship.ipynb\" target=\"_parent\"><img src=\"https://colab.research.google.com/assets/colab-badge.svg\" alt=\"Open In Colab\"/></a>"
      ]
    },
    {
      "cell_type": "markdown",
      "source": [
        "**1. Temprature Conversion**\n"
      ],
      "metadata": {
        "id": "vIsXC98toMDJ"
      }
    },
    {
      "cell_type": "code",
      "source": [
        "#1\n",
        "def convert_temperature(value, unit):\n",
        "    if unit == \"C\":\n",
        "        fahrenheit = (value * 9/5) + 32\n",
        "        kelvin = value + 273.15\n",
        "        print(f\"\\n{value}°C is equal to:\")\n",
        "        print(f\"{fahrenheit:.2f}°F\")\n",
        "        print(f\"{kelvin:.2f}K\")\n",
        "\n",
        "    elif unit == \"F\":\n",
        "        celsius = (value - 32) * 5/9\n",
        "        kelvin = celsius + 273.15\n",
        "        print(f\"\\n{value}°F is equal to:\")\n",
        "        print(f\"{celsius:.2f}°C\")\n",
        "        print(f\"{kelvin:.2f}K\")\n",
        "\n",
        "    elif unit == \"K\":\n",
        "        celsius = value - 273.15\n",
        "        fahrenheit = (celsius * 9/5) + 32\n",
        "        print(f\"\\n{value}K is equal to:\")\n",
        "        print(f\"{celsius:.2f}°C\")\n",
        "        print(f\"{fahrenheit:.2f}°F\")\n",
        "\n",
        "    else:\n",
        "        print(\"Invalid unit. Please use C for Celsius, F for Fahrenheit, or K for Kelvin.\")\n",
        "\n",
        "# Main Program\n",
        "try:\n",
        "    value = float(input(\"Enter temperature value: \"))\n",
        "    unit = input(\"Enter unit (C/F/K): \").strip().upper()\n",
        "    convert_temperature(value, unit)\n",
        "except ValueError:\n",
        "    print(\"Please enter a valid number for temperature.\")\n",
        "\n",
        "\n",
        "\n"
      ],
      "metadata": {
        "id": "y49kROLEF9B3",
        "colab": {
          "base_uri": "https://localhost:8080/"
        },
        "outputId": "465b1ee4-637b-41aa-f045-75d9d0e9102c"
      },
      "execution_count": 9,
      "outputs": [
        {
          "output_type": "stream",
          "name": "stdout",
          "text": [
            "Enter temperature value: 25\n",
            "Enter unit (C/F/K): F\n",
            "\n",
            "25.0°F is equal to:\n",
            "-3.89°C\n",
            "269.26K\n"
          ]
        }
      ]
    },
    {
      "cell_type": "markdown",
      "source": [
        "**2. Guessing Game (Rock, Paper, Scissor) Program**"
      ],
      "metadata": {
        "id": "SwxgqyKroVUs"
      }
    },
    {
      "cell_type": "code",
      "source": [
        "#2\n",
        "import random\n",
        "\n",
        "def guess_the_number():\n",
        "    number_to_guess = random.randint(1, 100)\n",
        "    attempts = 0\n",
        "    print(\"Welcome to the Guessing Game!\")\n",
        "    print(\"I'm thinking of a number between 1 and 100.\")\n",
        "\n",
        "    while True:\n",
        "        try:\n",
        "            user_guess = int(input(\"Enter your guess: \"))\n",
        "            attempts += 1\n",
        "            if user_guess < number_to_guess:\n",
        "                print(\"Too low! Try again.\")\n",
        "            elif user_guess > number_to_guess:\n",
        "                print(\"Too high! Try again.\")\n",
        "            else:\n",
        "                print(f\"Congratulations! You guessed the number {number_to_guess} in {attempts} attempts.\")\n",
        "                break\n",
        "        except ValueError:\n",
        "            print(\"Please enter a valid integer.\")\n",
        "\n",
        "# Run the game\n",
        "guess_the_number()\n",
        "\n"
      ],
      "metadata": {
        "colab": {
          "base_uri": "https://localhost:8080/"
        },
        "id": "MMIfDkZ1ojMp",
        "outputId": "d1561b79-6871-47d4-e1a8-e2fcfba8595c"
      },
      "execution_count": 7,
      "outputs": [
        {
          "output_type": "stream",
          "name": "stdout",
          "text": [
            "Welcome to the Guessing Game!\n",
            "I'm thinking of a number between 1 and 100.\n",
            "Enter your guess: 7\n",
            "Too low! Try again.\n",
            "Enter your guess: 99\n",
            "Too high! Try again.\n",
            "Enter your guess: 70\n",
            "Too high! Try again.\n",
            "Enter your guess: 60\n",
            "Too high! Try again.\n",
            "Enter your guess: 50\n",
            "Too high! Try again.\n",
            "Enter your guess: 40\n",
            "Too high! Try again.\n",
            "Enter your guess: 20\n",
            "Too high! Try again.\n",
            "Enter your guess: 10\n",
            "Congratulations! You guessed the number 10 in 8 attempts.\n"
          ]
        }
      ]
    },
    {
      "cell_type": "markdown",
      "source": [
        "**3. Simple Contact Management System**"
      ],
      "metadata": {
        "id": "Sqy5vMDkpY7Y"
      }
    },
    {
      "cell_type": "code",
      "source": [
        "#3\n",
        "import json\n",
        "import os\n",
        "\n",
        "# File to store contacts\n",
        "CONTACTS_FILE = 'contacts.json'\n",
        "\n",
        "# Load contacts from file\n",
        "def load_contacts():\n",
        "    if os.path.exists(CONTACTS_FILE):\n",
        "        with open(CONTACTS_FILE, 'r') as f:\n",
        "            return json.load(f)\n",
        "    return {}\n",
        "\n",
        "# Save contacts to file\n",
        "def save_contacts(contacts):\n",
        "    with open(CONTACTS_FILE, 'w') as f:\n",
        "        json.dump(contacts, f, indent=4)\n",
        "\n",
        "# Add a new contact\n",
        "def add_contact(contacts):\n",
        "    name = input(\"Enter name: \")\n",
        "    phone = input(\"Enter phone number: \")\n",
        "    email = input(\"Enter email: \")\n",
        "    contacts[name] = {\"phone\": phone, \"email\": email}\n",
        "    print(f\"✅ Contact '{name}' added.\")\n",
        "\n",
        "# View all contacts\n",
        "def view_contacts(contacts):\n",
        "    if not contacts:\n",
        "        print(\"⚠️ No contacts found.\")\n",
        "    else:\n",
        "        for name, info in contacts.items():\n",
        "            print(f\"👤 {name}: 📞 {info['phone']}, 📧 {info['email']}\")\n",
        "\n",
        "# Edit a contact\n",
        "def edit_contact(contacts):\n",
        "    name = input(\"Enter the name of the contact to edit: \")\n",
        "    if name in contacts:\n",
        "        phone = input(\"New phone number: \")\n",
        "        email = input(\"New email: \")\n",
        "        contacts[name] = {\"phone\": phone, \"email\": email}\n",
        "        print(f\"✏️ Contact '{name}' updated.\")\n",
        "    else:\n",
        "        print(\"❌ Contact not found.\")\n",
        "\n",
        "# Delete a contact\n",
        "def delete_contact(contacts):\n",
        "    name = input(\"Enter the name of the contact to delete: \")\n",
        "    if name in contacts:\n",
        "        del contacts[name]\n",
        "        print(f\"🗑️ Contact '{name}' deleted.\")\n",
        "    else:\n",
        "        print(\"❌ Contact not found.\")\n",
        "\n",
        "# Menu\n",
        "def main():\n",
        "    contacts = load_contacts()\n",
        "    while True:\n",
        "        print(\"\\n📒 Contact Manager\")\n",
        "        print(\"1. Add Contact\")\n",
        "        print(\"2. View Contacts\")\n",
        "        print(\"3. Edit Contact\")\n",
        "        print(\"4. Delete Contact\")\n",
        "        print(\"5. Exit\")\n",
        "\n",
        "        choice = input(\"Choose an option: \")\n",
        "\n",
        "        if choice == '1':\n",
        "            add_contact(contacts)\n",
        "        elif choice == '2':\n",
        "            view_contacts(contacts)\n",
        "        elif choice == '3':\n",
        "            edit_contact(contacts)\n",
        "        elif choice == '4':\n",
        "            delete_contact(contacts)\n",
        "        elif choice == '5':\n",
        "            save_contacts(contacts)\n",
        "            print(\"📁 Contacts saved. Goodbye!\")\n",
        "            break\n",
        "        else:\n",
        "            print(\"⚠️ Invalid option. Try again.\")\n",
        "\n",
        "if __name__ == \"__main__\":\n",
        "    main()\n"
      ],
      "metadata": {
        "colab": {
          "base_uri": "https://localhost:8080/"
        },
        "id": "1Gv33iNiplii",
        "outputId": "bd24fa64-effb-4ad0-95c3-a774242633ac"
      },
      "execution_count": 6,
      "outputs": [
        {
          "output_type": "stream",
          "name": "stdout",
          "text": [
            "\n",
            "📒 Contact Manager\n",
            "1. Add Contact\n",
            "2. View Contacts\n",
            "3. Edit Contact\n",
            "4. Delete Contact\n",
            "5. Exit\n",
            "Choose an option: 1\n",
            "Enter name: Shristy\n",
            "Enter phone number: 9031094757\n",
            "Enter email: iamsinghshristy@gmail.com\n",
            "✅ Contact 'Shristy' added.\n",
            "\n",
            "📒 Contact Manager\n",
            "1. Add Contact\n",
            "2. View Contacts\n",
            "3. Edit Contact\n",
            "4. Delete Contact\n",
            "5. Exit\n",
            "Choose an option: 2\n",
            "👤 Shristy: 📞 9031094757, 📧 iamsinghshristy@gmail.com\n",
            "\n",
            "📒 Contact Manager\n",
            "1. Add Contact\n",
            "2. View Contacts\n",
            "3. Edit Contact\n",
            "4. Delete Contact\n",
            "5. Exit\n",
            "Choose an option: 5\n",
            "📁 Contacts saved. Goodbye!\n"
          ]
        }
      ]
    },
    {
      "cell_type": "markdown",
      "source": [
        "**4. Sudoku SOlver**"
      ],
      "metadata": {
        "id": "emmEFcbbprER"
      }
    },
    {
      "cell_type": "code",
      "source": [
        "#4\n",
        "def print_grid(grid):\n",
        "    for row in grid:\n",
        "        print(\" \".join(str(num) if num != 0 else '.' for num in row))\n",
        "\n",
        "def is_valid(grid, row, col, num):\n",
        "    for i in range(9):\n",
        "        if grid[row][i] == num or grid[i][col] == num:\n",
        "            return False\n",
        "\n",
        "    start_row, start_col = 3 * (row // 3), 3 * (col // 3)\n",
        "    for i in range(3):\n",
        "        for j in range(3):\n",
        "            if grid[start_row + i][start_col + j] == num:\n",
        "                return False\n",
        "\n",
        "    return True\n",
        "\n",
        "def solve_sudoku(grid):\n",
        "    for row in range(9):\n",
        "        for col in range(9):\n",
        "            if grid[row][col] == 0:\n",
        "                for num in range(1, 10):\n",
        "                    if is_valid(grid, row, col, num):\n",
        "                        grid[row][col] = num\n",
        "                        if solve_sudoku(grid):\n",
        "                            return True\n",
        "                        grid[row][col] = 0\n",
        "                return False\n",
        "    return True\n",
        "sudoku = [\n",
        "    [5, 3, 0, 0, 7, 0, 0, 0, 0],\n",
        "    [6, 0, 0, 1, 9, 5, 0, 0, 0],\n",
        "    [0, 9, 8, 0, 0, 0, 0, 6, 0],\n",
        "\n",
        "    [8, 0, 0, 0, 6, 0, 0, 0, 3],\n",
        "    [4, 0, 0, 8, 0, 3, 0, 0, 1],\n",
        "    [7, 0, 0, 0, 2, 0, 0, 0, 6],\n",
        "\n",
        "    [0, 6, 0, 0, 0, 0, 2, 8, 0],\n",
        "    [0, 0, 0, 4, 1, 9, 0, 0, 5],\n",
        "    [0, 0, 0, 0, 8, 0, 0, 7, 9]\n",
        "]\n",
        "\n",
        "print(\"🔢 Unsolved Sudoku:\")\n",
        "print_grid(sudoku)\n",
        "\n",
        "if solve_sudoku(sudoku):\n",
        "    print(\"\\n✅ Solved Sudoku:\")\n",
        "    print_grid(sudoku)\n",
        "else:\n",
        "    print(\"\\n❌ No solution exists.\")\n"
      ],
      "metadata": {
        "colab": {
          "base_uri": "https://localhost:8080/"
        },
        "id": "SV6IR9d-pwgi",
        "outputId": "31bdef33-0f6d-4d9b-8a15-a8c04b61816a"
      },
      "execution_count": 3,
      "outputs": [
        {
          "output_type": "stream",
          "name": "stdout",
          "text": [
            "🔢 Unsolved Sudoku:\n",
            "5 3 . . 7 . . . .\n",
            "6 . . 1 9 5 . . .\n",
            ". 9 8 . . . . 6 .\n",
            "8 . . . 6 . . . 3\n",
            "4 . . 8 . 3 . . 1\n",
            "7 . . . 2 . . . 6\n",
            ". 6 . . . . 2 8 .\n",
            ". . . 4 1 9 . . 5\n",
            ". . . . 8 . . 7 9\n",
            "\n",
            "✅ Solved Sudoku:\n",
            "5 3 4 6 7 8 9 1 2\n",
            "6 7 2 1 9 5 3 4 8\n",
            "1 9 8 3 4 2 5 6 7\n",
            "8 5 9 7 6 1 4 2 3\n",
            "4 2 6 8 5 3 7 9 1\n",
            "7 1 3 9 2 4 8 5 6\n",
            "9 6 1 5 3 7 2 8 4\n",
            "2 8 7 4 1 9 6 3 5\n",
            "3 4 5 2 8 6 1 7 9\n"
          ]
        }
      ]
    },
    {
      "cell_type": "markdown",
      "source": [
        "**5. Web Scraping**"
      ],
      "metadata": {
        "id": "fOsJ-D0fpxnJ"
      }
    },
    {
      "cell_type": "code",
      "source": [
        "# --------------------------------------------\n",
        "# Web-scraping demo e-commerce site (laptops)\n",
        "# Target  : https://webscraper.io/test-sites/e-commerce/allinone/computers/laptops\n",
        "# Fields  : Name • Price • Rating • Description • URL\n",
        "# Output  : products.csv  (and auto-download in Colab)\n",
        "# --------------------------------------------\n",
        "\n",
        "import requests, pandas as pd\n",
        "from bs4 import BeautifulSoup\n",
        "from urllib.parse import urljoin\n",
        "\n",
        "BASE  = \"https://webscraper.io\"\n",
        "START = BASE + \"/test-sites/e-commerce/allinone/computers/laptops\"\n",
        "\n",
        "def fetch(url):\n",
        "    \"\"\"Return BeautifulSoup-parsed HTML of the given page.\"\"\"\n",
        "    hdr = {\"User-Agent\": \"Mozilla/5.0\"}\n",
        "    return BeautifulSoup(requests.get(url, headers=hdr, timeout=10).text, \"html.parser\")\n",
        "\n",
        "def parse_products(soup):\n",
        "    \"\"\"Extract product info from one listing page.\"\"\"\n",
        "    products = []\n",
        "    for card in soup.select(\"div.thumbnail\"):\n",
        "        title_tag = card.select_one(\"a.title\")\n",
        "        products.append({\n",
        "            \"Name\"       : title_tag[\"title\"],\n",
        "            \"Price\"      : card.select_one(\"h4.price\").text.strip(),\n",
        "            \"Rating\"     : card.select_one(\"p[data-rating]\")[\"data-rating\"]\n",
        "                           if card.select_one(\"p[data-rating]\") else\n",
        "                           str(len(card.select(\"span.glyphicon-star\"))),\n",
        "            \"Description\": card.select_one(\"p.description\").text.strip(),\n",
        "            \"URL\"        : urljoin(BASE, title_tag[\"href\"])\n",
        "        })\n",
        "    return products\n",
        "\n",
        "def next_page(soup):\n",
        "    \"\"\"Return the absolute URL of the next page, or None if last page.\"\"\"\n",
        "    nxt = soup.select_one(\"ul.pagination li.active + li a\")\n",
        "    return urljoin(BASE, nxt[\"href\"]) if nxt else None\n",
        "\n",
        "# ---------- Crawl all pages ----------\n",
        "print(\"⏳ Starting scrape …\")\n",
        "data, url = [], START\n",
        "while url:\n",
        "    print(\"  →\", url)\n",
        "    page = fetch(url)\n",
        "    data += parse_products(page)\n",
        "    url = next_page(page)\n",
        "\n",
        "print(f\"✅ Scraped {len(data)} products.\")\n",
        "\n",
        "# ---------- Save CSV ----------\n",
        "csv_path = \"products.csv\"\n",
        "pd.DataFrame(data).to_csv(csv_path, index=False)\n",
        "print(\"📄 Data saved to\", csv_path)\n",
        "\n",
        "# ---------- Auto-download (Colab only) ----------\n",
        "try:\n",
        "    from google.colab import files\n",
        "    files.download(csv_path)\n",
        "except ModuleNotFoundError:\n",
        "    pass  # Running outside Colab, skip auto-download\n"
      ],
      "metadata": {
        "colab": {
          "base_uri": "https://localhost:8080/",
          "height": 86
        },
        "id": "ckSThZ0vp_hr",
        "outputId": "f4f1c3af-51f6-4bde-f7a8-0164eab646f3"
      },
      "execution_count": 2,
      "outputs": [
        {
          "output_type": "stream",
          "name": "stdout",
          "text": [
            "⏳ Starting scrape …\n",
            "  → https://webscraper.io/test-sites/e-commerce/allinone/computers/laptops\n",
            "✅ Scraped 117 products.\n",
            "📄 Data saved to products.csv\n"
          ]
        },
        {
          "output_type": "display_data",
          "data": {
            "text/plain": [
              "<IPython.core.display.Javascript object>"
            ],
            "application/javascript": [
              "\n",
              "    async function download(id, filename, size) {\n",
              "      if (!google.colab.kernel.accessAllowed) {\n",
              "        return;\n",
              "      }\n",
              "      const div = document.createElement('div');\n",
              "      const label = document.createElement('label');\n",
              "      label.textContent = `Downloading \"${filename}\": `;\n",
              "      div.appendChild(label);\n",
              "      const progress = document.createElement('progress');\n",
              "      progress.max = size;\n",
              "      div.appendChild(progress);\n",
              "      document.body.appendChild(div);\n",
              "\n",
              "      const buffers = [];\n",
              "      let downloaded = 0;\n",
              "\n",
              "      const channel = await google.colab.kernel.comms.open(id);\n",
              "      // Send a message to notify the kernel that we're ready.\n",
              "      channel.send({})\n",
              "\n",
              "      for await (const message of channel.messages) {\n",
              "        // Send a message to notify the kernel that we're ready.\n",
              "        channel.send({})\n",
              "        if (message.buffers) {\n",
              "          for (const buffer of message.buffers) {\n",
              "            buffers.push(buffer);\n",
              "            downloaded += buffer.byteLength;\n",
              "            progress.value = downloaded;\n",
              "          }\n",
              "        }\n",
              "      }\n",
              "      const blob = new Blob(buffers, {type: 'application/binary'});\n",
              "      const a = document.createElement('a');\n",
              "      a.href = window.URL.createObjectURL(blob);\n",
              "      a.download = filename;\n",
              "      div.appendChild(a);\n",
              "      a.click();\n",
              "      div.remove();\n",
              "    }\n",
              "  "
            ]
          },
          "metadata": {}
        },
        {
          "output_type": "display_data",
          "data": {
            "text/plain": [
              "<IPython.core.display.Javascript object>"
            ],
            "application/javascript": [
              "download(\"download_af0dc915-d634-4c47-a6bd-71ce77b70076\", \"products.csv\", 22708)"
            ]
          },
          "metadata": {}
        }
      ]
    }
  ]
}